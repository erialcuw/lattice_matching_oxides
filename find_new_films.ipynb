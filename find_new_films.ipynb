{
 "cells": [
  {
   "cell_type": "markdown",
   "id": "7b6e40f9-f76b-47dc-8cf7-b4cdcd14a901",
   "metadata": {},
   "source": [
    "##### __Step 1__ - To run this code, the following python packages must be downloaded: sys, pymatgen, numpy, pandas, matplotlib, math and os\n",
    "##### __Step 2__ - Go to https://materialsproject.org and generate an API key. Label your generated key below as a string named MAPI_KEY"
   ]
  },
  {
   "cell_type": "code",
   "execution_count": 7,
   "id": "991d8fb1-7fc7-4467-b16e-80d7c15ae802",
   "metadata": {
    "tags": []
   },
   "outputs": [],
   "source": [
    "MAPI_KEY = 'enter you api key here'"
   ]
  },
  {
   "cell_type": "markdown",
   "id": "bed9db44-1858-410f-8d71-f2890a8de376",
   "metadata": {},
   "source": [
    "##### __Step 3__ - Import the python module oxide_matching, which contains the functions necessary for this code."
   ]
  },
  {
   "cell_type": "code",
   "execution_count": 2,
   "id": "a9557557-5a88-4dd5-b33a-04145b955a0d",
   "metadata": {},
   "outputs": [],
   "source": [
    "import oxide_matching as om\n",
    "import math\n",
    "import pandas as pd"
   ]
  },
  {
   "cell_type": "markdown",
   "id": "479385d5-d6a9-423e-9b9e-4541d5b215c1",
   "metadata": {},
   "source": [
    "##### __Step 4__ - __Download all possible cubic oxides.__\n",
    "##### _4.1_ - List elements to exclude in analysis \n",
    "##### _4.2_ - The data will save as a pandas dataframe. Choose a filename.\n",
    "##### _4.3_ - Download all possible cubic oxides. The data will save as pandas dataframe, which will be used in step 5. This may take 10-15 mins and only needs to be done once."
   ]
  },
  {
   "cell_type": "code",
   "execution_count": null,
   "id": "b983a057-8cd0-48f6-b5ce-2440ca07e05c",
   "metadata": {},
   "outputs": [],
   "source": [
    "#4.1 \n",
    "elements_to_avoid = ['H', 'Be', 'Os', 'Hg', 'P', 'F','Cl','Br','I', 'At', 'Ts', 'Na', 'Li', 'K', 'Rb','Cs','Ac','Th','Pa','U','Np','Pu','Am','Cm','Bk','Cf','Es','Fm','Md','No','Lr']\n",
    "\n",
    "#4.2\n",
    "file_name = 'oxide_data'\n",
    "\n",
    "#4.3\n",
    "om.download_oxides_from_matproj(MAPI_KEY, elements_to_avoid, file_name)"
   ]
  },
  {
   "cell_type": "markdown",
   "id": "6b1da907-8d8a-42be-8da0-83f61f3b736a",
   "metadata": {},
   "source": [
    "##### __Step 5__ - __Find lattice matched films to a particular substrate.__\n",
    "##### _5.1_ - Specifiy the substrate,CTE, substrate orientation, xtal_type, and lattice parameter.\n",
    "##### _5.2_ - Specify minimum % strain\n",
    "##### _5.3_ - Specify file_name that corresponds to the oxide data (same as step 4.3)\n",
    "##### _5.4_ - Find lattice matched films. The output is a pandas dataframe that contains all unique matches for the (100), (110), and (111) MgO substrates. "
   ]
  },
  {
   "cell_type": "code",
   "execution_count": null,
   "id": "c19bdd81-507a-4781-8716-6a165715109f",
   "metadata": {},
   "outputs": [],
   "source": [
    "#5.1\n",
    "substrate = 'MgO'\n",
    "a = 4.216\n",
    "CTE = 10.8\n",
    "sub_xtal_type = 'rocksalt'\n",
    "sub_orientation = ['(100)', '(110)', '(111)']\n",
    "lattice_parameter = [a, a*math.sqrt(2), a*math.sqrt(3)]\n",
    "\n",
    "# 5.2 \n",
    "strain = 5\n",
    "\n",
    "# 5.3\n",
    "file_name = 'oxide_data'\n",
    "\n",
    "# 5.4\n",
    "\n",
    "old_films = pd.DataFrame([])\n",
    "for ii in range(0, len(sub_orientation)):\n",
    "    films = om.find_films(file_name, substrate, sub_xtal_type,lattice_parameter[ii], sub_orientation[ii], strain, CTE)\n",
    "    films['sub_orientation'] = sub_orientation[ii]\n",
    "    films['substrate'] = substrate\n",
    "    old_films = pd.concat([old_films, films])\n",
    "    \n",
    "films = old_films.drop_duplicates(subset=['film'])\n",
    "films = films.reset_index(drop=True)\n",
    "films.to_csv(r'films_on_'+substrate+'.csv', index = False, header=True)\n",
    "\n",
    "print('There are '+str(len(films[(films['stability']== 'stable')]))+' stable films predicted')\n",
    "print('There are '+str(len(films[~(films['stability']== 'stable')]))+' metastable or potentially unstable films predicted')\n",
    "print('We label x-tal types based on the stoichometry of the oxides. This may result in some films be inaccurately labeled')\n",
    "\n",
    "#pd.options.display.max_columns = 1000\n",
    "#pd.options.display.max_rows = 1000\n",
    "#display(films)"
   ]
  },
  {
   "cell_type": "markdown",
   "id": "31323868-5b5d-405b-ae35-6bc02f4b2073",
   "metadata": {},
   "source": [
    "##### _Optional_ - __Narrow list to stable films with a non-zero refractive index and bandgap larger than 1.75 eV.__"
   ]
  },
  {
   "cell_type": "code",
   "execution_count": null,
   "id": "dfbec9f6-dbcc-47ce-acaa-b3a6d453be0f",
   "metadata": {},
   "outputs": [],
   "source": [
    "films = films[(films['stability'] == 'stable') &\n",
    "                (films['n'] > 0) & \n",
    "                (films['band gap (eV)'] > 1.75)]\n",
    "\n",
    "#pd.options.display.max_columns = 1000\n",
    "#pd.options.display.max_rows = 1000\n",
    "display(films)"
   ]
  },
  {
   "cell_type": "code",
   "execution_count": 90,
   "id": "da840666-8929-44cd-87d4-e8c7b0675cd4",
   "metadata": {},
   "outputs": [],
   "source": [
    "# other potential substrate candidates\n",
    " \n",
    "substrate = 'YZrO2'\n",
    "a = 5.125\n",
    "sub_xtal_type = 'fluorite'\n",
    "\n",
    "substrate = 'SrTiO3'\n",
    "sub_xtal_type = 'perovskite'    \n",
    "a = 3.905\n",
    "\n",
    "substrate = 'LaAlO3'     \n",
    "sub_xtal_type = 'perovskite'    \n",
    "a = 3.792\n",
    "\n",
    "substrate = 'MgAl2O4'\n",
    "a = 8.083\n",
    "sub_xtal_type = 'spinel'\n"
   ]
  }
 ],
 "metadata": {
  "kernelspec": {
   "display_name": "Python 3 (ipykernel)",
   "language": "python",
   "name": "python3"
  },
  "language_info": {
   "codemirror_mode": {
    "name": "ipython",
    "version": 3
   },
   "file_extension": ".py",
   "mimetype": "text/x-python",
   "name": "python",
   "nbconvert_exporter": "python",
   "pygments_lexer": "ipython3",
   "version": "3.9.12"
  }
 },
 "nbformat": 4,
 "nbformat_minor": 5
}
